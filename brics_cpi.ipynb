{
  "nbformat": 4,
  "nbformat_minor": 0,
  "metadata": {
    "colab": {
      "name": "brics_cpi.ipynb",
      "version": "0.3.2",
      "views": {},
      "default_view": {},
      "provenance": []
    },
    "kernelspec": {
      "name": "python3",
      "display_name": "Python 3"
    }
  },
  "cells": [
    {
      "metadata": {
        "id": "_FNIsSfnFBwJ",
        "colab_type": "code",
        "colab": {
          "autoexec": {
            "startup": false,
            "wait_interval": 0
          },
          "base_uri": "https://localhost:8080/",
          "height": 34
        },
        "outputId": "8616ce38-b946-4865-d937-5a6bd9929ffa",
        "executionInfo": {
          "status": "ok",
          "timestamp": 1526756643237,
          "user_tz": 240,
          "elapsed": 473,
          "user": {
            "displayName": "Evan Tachovsky",
            "photoUrl": "//lh4.googleusercontent.com/-pamx5jagkIE/AAAAAAAAAAI/AAAAAAAAAGE/JMry1P-JPIs/s50-c-k-no/photo.jpg",
            "userId": "100770841030955597228"
          }
        }
      },
      "cell_type": "code",
      "source": [
        "import altair as alt\n",
        "import pandas as pd\n",
        "\n",
        "# enable vega rendering in colab\n",
        "alt.renderers.enable('colab')"
      ],
      "execution_count": 292,
      "outputs": [
        {
          "output_type": "execute_result",
          "data": {
            "text/plain": [
              "RendererRegistry.enable('colab')"
            ]
          },
          "metadata": {
            "tags": []
          },
          "execution_count": 292
        }
      ]
    },
    {
      "metadata": {
        "id": "02Ub8FujFIlk",
        "colab_type": "code",
        "colab": {
          "autoexec": {
            "startup": false,
            "wait_interval": 0
          }
        }
      },
      "cell_type": "code",
      "source": [
        "## import and clean up cpi data\n",
        "\n",
        "# read in csv from github and replace \"-\" with NaN\n",
        "cpi_raw = pd.read_csv('https://raw.githubusercontent.com/datasets/corruption-perceptions-index/master/data/cpi.csv',\n",
        "                 na_values = ['-'])\n",
        "\n",
        "# melt wide data frame into long\n",
        "cpi = pd.melt(cpi_raw, id_vars = ['Jurisdiction'], value_vars = list(cpi_raw)[1:], var_name = 'year', value_name = 'cpi')\n",
        "\n",
        "# convert the new year variable to numeric\n",
        "cpi.year = pd.to_numeric(cpi.year)"
      ],
      "execution_count": 0,
      "outputs": []
    },
    {
      "metadata": {
        "id": "cwTFDpCOXK0v",
        "colab_type": "code",
        "colab": {
          "autoexec": {
            "startup": false,
            "wait_interval": 0
          }
        }
      },
      "cell_type": "code",
      "source": [
        "## get recent BRICS data\n",
        "select_years = cpi['year'] > 2011\n",
        "select_countries = cpi['Jurisdiction'].isin(['Brazil', 'China', 'India', 'Russia', 'South Africa'])\n",
        "\n",
        "cpi_select = cpi[select_years & select_countries]"
      ],
      "execution_count": 0,
      "outputs": []
    },
    {
      "metadata": {
        "id": "xjm83I5QOoHB",
        "colab_type": "code",
        "colab": {
          "autoexec": {
            "startup": false,
            "wait_interval": 0
          },
          "base_uri": "https://localhost:8080/",
          "height": 454
        },
        "outputId": "4db8155a-b6f9-4e59-c877-38fde68413a7",
        "executionInfo": {
          "status": "ok",
          "timestamp": 1526756656284,
          "user_tz": 240,
          "elapsed": 332,
          "user": {
            "displayName": "Evan Tachovsky",
            "photoUrl": "//lh4.googleusercontent.com/-pamx5jagkIE/AAAAAAAAAAI/AAAAAAAAAGE/JMry1P-JPIs/s50-c-k-no/photo.jpg",
            "userId": "100770841030955597228"
          }
        }
      },
      "cell_type": "code",
      "source": [
        "## build chart\n",
        "\n",
        "highlight = alt.selection(type = 'single', on = 'mouseover', \n",
        "                           fields = ['Jurisdiction'], nearest = True)\n",
        "\n",
        "# basic chart\n",
        "brics_cpi_base = alt.Chart(cpi_select).encode(\n",
        "    x = 'year:O',\n",
        "    y = alt.Y('cpi', scale = alt.Scale(domain = [20, 50]), title = \"Corruption Perception Index\"),\n",
        "    color = 'Jurisdiction'\n",
        ")\n",
        "\n",
        "# invisible points used for mouseover https://altair-viz.github.io/gallery/multiline_highlight.html\n",
        "points = brics_cpi_base.mark_circle().encode(\n",
        "    opacity = alt.value(0)\n",
        ").properties(\n",
        "    selection = highlight, \n",
        "    width = 400,\n",
        "    height = 350\n",
        ")\n",
        "\n",
        "# add the lines with a bit of smoothing\n",
        "lines = brics_cpi_base.mark_line(interpolate = \"basis\").encode(\n",
        "    size = alt.condition(~highlight, alt.value(3), alt.value(6))\n",
        "\n",
        ")\n",
        "\n",
        "\n",
        "points + lines\n"
      ],
      "execution_count": 295,
      "outputs": [
        {
          "output_type": "execute_result",
          "data": {
            "text/plain": [
              "LayerChart({\n",
              "  layer: [Chart({\n",
              "    data:       Jurisdiction  year   cpi\n",
              "    3201        Brazil  2012  43.0\n",
              "    3214         China  2012  39.0\n",
              "    3273         India  2012  36.0\n",
              "    3343        Russia  2012  28.0\n",
              "    3363  South Africa  2012  43.0\n",
              "    3428        Brazil  2013  42.0\n",
              "    3441         China  2013  40.0\n",
              "    3500         India  2013  36.0\n",
              "    3570        Russia  2013  28.0\n",
              "    3590  South Africa  2013  42.0\n",
              "    3655        Brazil  2014  43.0\n",
              "    3668         China  2014  36.0\n",
              "    3727         India  2014  38.0\n",
              "    3797        Russia  2014  27.0\n",
              "    3817  South Africa  2014  44.0\n",
              "    3882        Brazil  2015  38.0\n",
              "    3895         China  2015  37.0\n",
              "    3954         India  2015  38.0\n",
              "    4024        Russia  2015  29.0\n",
              "    4044  South Africa  2015  44.0,\n",
              "    encoding: EncodingWithFacet({\n",
              "      color: Color({\n",
              "        shorthand: 'Jurisdiction'\n",
              "      }),\n",
              "      opacity: OpacityValue({\n",
              "        value: 0\n",
              "      }),\n",
              "      x: X({\n",
              "        shorthand: 'year:O'\n",
              "      }),\n",
              "      y: Y({\n",
              "        scale: Scale({\n",
              "          domain: [20, 50]\n",
              "        }),\n",
              "        shorthand: 'cpi',\n",
              "        title: 'Corruption Perception Index'\n",
              "      })\n",
              "    }),\n",
              "    height: 350,\n",
              "    mark: 'circle',\n",
              "    selection: NamedSelection({\n",
              "      selector052: SelectionDef({\n",
              "        fields: ['Jurisdiction'],\n",
              "        nearest: True,\n",
              "        on: 'mouseover',\n",
              "        type: 'single'\n",
              "      })\n",
              "    }),\n",
              "    width: 400\n",
              "  }), Chart({\n",
              "    data:       Jurisdiction  year   cpi\n",
              "    3201        Brazil  2012  43.0\n",
              "    3214         China  2012  39.0\n",
              "    3273         India  2012  36.0\n",
              "    3343        Russia  2012  28.0\n",
              "    3363  South Africa  2012  43.0\n",
              "    3428        Brazil  2013  42.0\n",
              "    3441         China  2013  40.0\n",
              "    3500         India  2013  36.0\n",
              "    3570        Russia  2013  28.0\n",
              "    3590  South Africa  2013  42.0\n",
              "    3655        Brazil  2014  43.0\n",
              "    3668         China  2014  36.0\n",
              "    3727         India  2014  38.0\n",
              "    3797        Russia  2014  27.0\n",
              "    3817  South Africa  2014  44.0\n",
              "    3882        Brazil  2015  38.0\n",
              "    3895         China  2015  37.0\n",
              "    3954         India  2015  38.0\n",
              "    4024        Russia  2015  29.0\n",
              "    4044  South Africa  2015  44.0,\n",
              "    encoding: EncodingWithFacet({\n",
              "      color: Color({\n",
              "        shorthand: 'Jurisdiction'\n",
              "      }),\n",
              "      size: SizeValue({\n",
              "        condition: SizeValue({\n",
              "          selection: SelectionNot({\n",
              "            not: 'selector052'\n",
              "          }),\n",
              "          value: 3\n",
              "        }),\n",
              "        value: 6\n",
              "      }),\n",
              "      x: X({\n",
              "        shorthand: 'year:O'\n",
              "      }),\n",
              "      y: Y({\n",
              "        scale: Scale({\n",
              "          domain: [20, 50]\n",
              "        }),\n",
              "        shorthand: 'cpi',\n",
              "        title: 'Corruption Perception Index'\n",
              "      })\n",
              "    }),\n",
              "    mark: MarkDef({\n",
              "      interpolate: 'basis',\n",
              "      type: 'line'\n",
              "    })\n",
              "  })]\n",
              "})"
            ],
            "text/html": [
              "\n",
              "<!DOCTYPE html>\n",
              "<html>\n",
              "<head>\n",
              "  <style>\n",
              "    .vega-actions a {\n",
              "        margin-right: 12px;\n",
              "        color: #757575;\n",
              "        font-weight: normal;\n",
              "        font-size: 13px;\n",
              "    }\n",
              "    .error {\n",
              "        color: red;\n",
              "    }\n",
              "  </style>\n",
              "\n",
              "<script src=\"https://cdn.jsdelivr.net/npm//vega@3.2\"></script>\n",
              "<script src=\"https://cdn.jsdelivr.net/npm//vega-lite@2.4.1\"></script>\n",
              "<script src=\"https://cdn.jsdelivr.net/npm//vega-embed@3.0\"></script>\n",
              "\n",
              "</head>\n",
              "<body>\n",
              "  <div id=\"vis\"></div>\n",
              "  <script type=\"text/javascript\">\n",
              "    var spec = {\"config\": {\"view\": {\"width\": 400, \"height\": 300}}, \"layer\": [{\"data\": {\"values\": [{\"Jurisdiction\": \"Brazil\", \"year\": 2012, \"cpi\": 43.0}, {\"Jurisdiction\": \"China\", \"year\": 2012, \"cpi\": 39.0}, {\"Jurisdiction\": \"India\", \"year\": 2012, \"cpi\": 36.0}, {\"Jurisdiction\": \"Russia\", \"year\": 2012, \"cpi\": 28.0}, {\"Jurisdiction\": \"South Africa\", \"year\": 2012, \"cpi\": 43.0}, {\"Jurisdiction\": \"Brazil\", \"year\": 2013, \"cpi\": 42.0}, {\"Jurisdiction\": \"China\", \"year\": 2013, \"cpi\": 40.0}, {\"Jurisdiction\": \"India\", \"year\": 2013, \"cpi\": 36.0}, {\"Jurisdiction\": \"Russia\", \"year\": 2013, \"cpi\": 28.0}, {\"Jurisdiction\": \"South Africa\", \"year\": 2013, \"cpi\": 42.0}, {\"Jurisdiction\": \"Brazil\", \"year\": 2014, \"cpi\": 43.0}, {\"Jurisdiction\": \"China\", \"year\": 2014, \"cpi\": 36.0}, {\"Jurisdiction\": \"India\", \"year\": 2014, \"cpi\": 38.0}, {\"Jurisdiction\": \"Russia\", \"year\": 2014, \"cpi\": 27.0}, {\"Jurisdiction\": \"South Africa\", \"year\": 2014, \"cpi\": 44.0}, {\"Jurisdiction\": \"Brazil\", \"year\": 2015, \"cpi\": 38.0}, {\"Jurisdiction\": \"China\", \"year\": 2015, \"cpi\": 37.0}, {\"Jurisdiction\": \"India\", \"year\": 2015, \"cpi\": 38.0}, {\"Jurisdiction\": \"Russia\", \"year\": 2015, \"cpi\": 29.0}, {\"Jurisdiction\": \"South Africa\", \"year\": 2015, \"cpi\": 44.0}]}, \"mark\": \"circle\", \"encoding\": {\"color\": {\"type\": \"nominal\", \"field\": \"Jurisdiction\"}, \"opacity\": {\"value\": 0}, \"x\": {\"type\": \"ordinal\", \"field\": \"year\"}, \"y\": {\"type\": \"quantitative\", \"field\": \"cpi\", \"scale\": {\"domain\": [20, 50]}, \"title\": \"Corruption Perception Index\"}}, \"height\": 350, \"selection\": {\"selector052\": {\"type\": \"single\", \"on\": \"mouseover\", \"fields\": [\"Jurisdiction\"], \"nearest\": true}}, \"width\": 400}, {\"data\": {\"values\": [{\"Jurisdiction\": \"Brazil\", \"year\": 2012, \"cpi\": 43.0}, {\"Jurisdiction\": \"China\", \"year\": 2012, \"cpi\": 39.0}, {\"Jurisdiction\": \"India\", \"year\": 2012, \"cpi\": 36.0}, {\"Jurisdiction\": \"Russia\", \"year\": 2012, \"cpi\": 28.0}, {\"Jurisdiction\": \"South Africa\", \"year\": 2012, \"cpi\": 43.0}, {\"Jurisdiction\": \"Brazil\", \"year\": 2013, \"cpi\": 42.0}, {\"Jurisdiction\": \"China\", \"year\": 2013, \"cpi\": 40.0}, {\"Jurisdiction\": \"India\", \"year\": 2013, \"cpi\": 36.0}, {\"Jurisdiction\": \"Russia\", \"year\": 2013, \"cpi\": 28.0}, {\"Jurisdiction\": \"South Africa\", \"year\": 2013, \"cpi\": 42.0}, {\"Jurisdiction\": \"Brazil\", \"year\": 2014, \"cpi\": 43.0}, {\"Jurisdiction\": \"China\", \"year\": 2014, \"cpi\": 36.0}, {\"Jurisdiction\": \"India\", \"year\": 2014, \"cpi\": 38.0}, {\"Jurisdiction\": \"Russia\", \"year\": 2014, \"cpi\": 27.0}, {\"Jurisdiction\": \"South Africa\", \"year\": 2014, \"cpi\": 44.0}, {\"Jurisdiction\": \"Brazil\", \"year\": 2015, \"cpi\": 38.0}, {\"Jurisdiction\": \"China\", \"year\": 2015, \"cpi\": 37.0}, {\"Jurisdiction\": \"India\", \"year\": 2015, \"cpi\": 38.0}, {\"Jurisdiction\": \"Russia\", \"year\": 2015, \"cpi\": 29.0}, {\"Jurisdiction\": \"South Africa\", \"year\": 2015, \"cpi\": 44.0}]}, \"mark\": {\"type\": \"line\", \"interpolate\": \"basis\"}, \"encoding\": {\"color\": {\"type\": \"nominal\", \"field\": \"Jurisdiction\"}, \"size\": {\"condition\": {\"value\": 3, \"selection\": {\"not\": \"selector052\"}}, \"value\": 6}, \"x\": {\"type\": \"ordinal\", \"field\": \"year\"}, \"y\": {\"type\": \"quantitative\", \"field\": \"cpi\", \"scale\": {\"domain\": [20, 50]}, \"title\": \"Corruption Perception Index\"}}}], \"$schema\": \"https://vega.github.io/schema/vega-lite/v2.4.1.json\"};\n",
              "    var embed_opt = {\"mode\": \"vega-lite\"};\n",
              "\n",
              "    function showError(el, error){\n",
              "        el.innerHTML = ('<div class=\"error\">'\n",
              "                        + '<p>JavaScript Error: ' + error.message + '</p>'\n",
              "                        + \"<p>This usually means there's a typo in your chart specification. \"\n",
              "                        + \"See the javascript console for the full traceback.</p>\"\n",
              "                        + '</div>');\n",
              "        throw error;\n",
              "    }\n",
              "    const el = document.getElementById('vis');\n",
              "    vegaEmbed(\"#vis\", spec, embed_opt)\n",
              "      .catch(error => showError(el, error));\n",
              "  </script>\n",
              "</body>\n",
              "</html>\n"
            ]
          },
          "metadata": {
            "tags": []
          },
          "execution_count": 295
        }
      ]
    }
  ]
}